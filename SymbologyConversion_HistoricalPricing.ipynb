{
 "cells": [
  {
   "cell_type": "markdown",
   "metadata": {},
   "source": [
    "# Using EDP Symbology Conversion Service with Intraday Summaries serivice\n",
    "\n",
    "## Introduction\n",
    "To retrieve intraday summaries data i.e. bar data, you need to specify a Refinitiv RIC of the data. This sample demonstrates how to use EDP Symbology Conversion Service to convert two symbols e.g.ISIN, SEDOL, CUSIP, SDCCUSIP to matching RICs. Then, it requests intrady summaries data with both RICs and plots a line char of each RICs's last trade prices.\n",
    "\n",
    "## Pre-requisites\n",
    "\n",
    "* Python 3.6 or later version.\n",
    "* Required Python Packages: getpass, json, requests, pandas, numpy\n",
    "* [Jupyter Notebook](https://jupyter.org/install). \n",
    "* EDP account with permission to access EDP symbology conversion and intraday summaries service.\n",
    "\n",
    "# Implementation\n",
    "The steps of implementation are the following:\n"
   ]
  },
  {
   "cell_type": "markdown",
   "metadata": {},
   "source": [
    "__1. Enter EDP Username, Client Id and Password__"
   ]
  },
  {
   "cell_type": "code",
   "execution_count": null,
   "metadata": {
    "scrolled": false
   },
   "outputs": [],
   "source": [
    "import getpass as gp\n",
    "\n",
    "username=input('Enter EDP username:')\n",
    "clientid=input('Enter client id/app id:')\n",
    "password=gp.getpass('Enter EDP Password:')"
   ]
  },
  {
   "cell_type": "markdown",
   "metadata": {},
   "source": [
    "__2. Request access token with the inputs from step 1__\n",
    "\n",
    "The application sends HTTP post with required parameters according to the [EDP tutorial](https://developers.refinitiv.com/elektron-data-platform/elektron-data-platform-apis/learning?content=38562&type=learning_material_item) to get the access token which is used to get data from EDP."
   ]
  },
  {
   "cell_type": "code",
   "execution_count": null,
   "metadata": {},
   "outputs": [],
   "source": [
    "from json import dumps, loads, load\n",
    "from requests import post,get\n",
    "\n",
    "#Get access token from EDP server \n",
    "getTokenEndpoint=\"https://api.refinitiv.com/auth/oauth2/beta1/token\"\n",
    "refreshToken=None\n",
    "accessToken=None\n",
    "_header= {}\n",
    "_header['Accept']='application/json'\n",
    "_params={}\n",
    "\n",
    "if refreshToken is None:\n",
    "    _params={\n",
    "        \"username\": username,\n",
    "        \"password\": password,\n",
    "        \"client_id\": clientid,\n",
    "        \"grant_type\": \"password\",\n",
    "        \"scope\": \"trapi\",\n",
    "        \"takeExclusiveSignOnControl\": \"true\"\n",
    "    }\n",
    "else:\n",
    "    _params={\n",
    "\t\t\t\"refresh_token\": refreshToken,\n",
    "\t\t\t\"username\": username,\n",
    "\t\t\t\"grant_type\": \"refresh_token\"\n",
    "    }\n",
    "\n",
    "resp=post(url=getTokenEndpoint,data=_params,headers=_header,auth=(username,\"\"))"
   ]
  },
  {
   "cell_type": "markdown",
   "metadata": {},
   "source": [
    "__3. Verify a response and get access token in the successful response__\n",
    "\n",
    "If the returned status code from HTTP response is not 200 (OK) that means the application gets an error response. Hence, it prints the response and exit. Otherwise, the application get the refresh token and access token from the HTTP response message and print them."
   ]
  },
  {
   "cell_type": "code",
   "execution_count": null,
   "metadata": {
    "scrolled": true
   },
   "outputs": [],
   "source": [
    "refreshToken=\"\"\n",
    "accessToken=\"\"\n",
    "if resp.status_code!=200:\n",
    "    print(\"Status Code:\",resp.status_code,\" Text:\",dumps(loads(resp.text),indent=4))\n",
    "    exit()\n",
    "else:\n",
    "    from collections import OrderedDict\n",
    "    auth_object=loads(resp.text,object_pairs_hook=OrderedDict)\n",
    "    accessToken=auth_object[\"access_token\"]\n",
    "    refreshToken=auth_object[\"refresh_token\"]\n",
    "\n",
    "print(\"Access Token:\",accessToken)\n",
    "print()\n",
    "print(\"Refresh Token:\",refreshToken)"
   ]
  },
  {
   "cell_type": "markdown",
   "metadata": {},
   "source": [
    "__4. Convert the identifiers to the RICs using Symbology Conversion Service__\n",
    "\n",
    "The application sends a HTTP post with two input identifiers to Symbology Conversion Service. If the returned status code from HTTP response is not 200 (OK) that means the application gets an error response. Hence, it prints the response and exit. Otherwise, the application gets RICs from the HTTP response message and print the RICs. If all RICs matching the request are not returned, the program exits. "
   ]
  },
  {
   "cell_type": "code",
   "execution_count": null,
   "metadata": {
    "scrolled": false
   },
   "outputs": [],
   "source": [
    "from requests import post,get\n",
    "###Get data value(s) sorted acording to the names in headers key\n",
    "def getDataByNameInHeaders(headersVal,dataVal,key):\n",
    "    #check if data is null or empty\n",
    "    if dataVal is None:\n",
    "        return \"There is no data\"\n",
    "    if(len(dataVal)==0):\n",
    "        return \"data is empty\"\n",
    "    position = -1\n",
    "    dataList = []\n",
    "    numHeaders = len(headersVal)\n",
    "    #find position of key in name of headers\n",
    "    for x in range (numHeaders): \n",
    "        nameHeader = headersVal[x]['name']\n",
    "        if nameHeader == key:\n",
    "            position = x\n",
    "            break\n",
    "    #if the key is not found\n",
    "    if(position== -1):\n",
    "        return key + \" is not found\"\n",
    "    #if the key is found, get data\n",
    "    numData = len(dataVal)\n",
    "    for y in range (numData):\n",
    "        data = dataVal[y][position]\n",
    "        dataList.append(data)\n",
    "    return dataList\n",
    "\n",
    "#input two symbols e.g.ISIN, SEDOL, CUSIP, SDCCUSIP \n",
    "symbol1=input(\"Enter the first symbol: \")\n",
    "symbol2=input(\"Enter the second symbol: \")\n",
    "#keep dictionary which key is RIC and value is symbol\n",
    "RIC2SymbolDict = {}\n",
    "\n",
    "#create a request with the input symbols and send the request to Symbology Converion Service\n",
    "symbology_conversion_endpoint=\"https://api.refinitiv.com/data/symbology/beta1/convert\"\n",
    "jsonreq={\n",
    "    \"universe\": [\n",
    "        symbol1,\n",
    "        symbol2\n",
    "    ],\n",
    "    \"to\": [\n",
    "        \"RIC\"\n",
    "    ]\n",
    "}\n",
    "resp=post(url=symbology_conversion_endpoint,json=jsonreq,headers={\"Authorization\": \"Bearer \" + accessToken})\n",
    "if resp.status_code!=200:\n",
    "    print(\"Status Code:\",resp.status_code,\" Text:\",dumps(loads(resp.text),indent=4))\n",
    "    exit()\n",
    "\n",
    "sym_object=loads(resp.text)\n",
    "print()\n",
    "print(\"The OK response\")\n",
    "print(sym_object)\n",
    "print()\n",
    "#if the string is returned, it is error and there is no data so exit\n",
    "instrumentList = getDataByNameInHeaders(sym_object['headers'],sym_object['data'],\"instrument\")\n",
    "if isinstance(instrumentList, str):\n",
    "    print(\"Error: \" + instrumentList)\n",
    "    exit()\n",
    "RICList = getDataByNameInHeaders(sym_object['headers'],sym_object['data'],\"RIC\")\n",
    "#Check if all RICs matching the request are returned. If not, the program exits.\n",
    "getAllRICs = True\n",
    "for x in range(len(instrumentList)):\n",
    "    if RICList[x] is None:\n",
    "        print(instrumentList[x] + \" is failed to resolve to a RIC.\")\n",
    "        getAllRICs = False\n",
    "    else:\n",
    "        print(instrumentList[x] + \" is RIC \" + RICList[x])\n",
    "        RIC2SymbolDict[RICList[x]]=instrumentList[x]\n",
    "if getAllRICs == False:\n",
    "    print(\"Some symbols cannot be converted to RICs. The program is exiting...\");\n",
    "    exit()"
   ]
  },
  {
   "cell_type": "markdown",
   "metadata": {},
   "source": [
    "__5. Request intraday summaries data for each RIC__\n",
    "\n",
    "The application sends a HTTP get to request data of the whole previous business day with interval 10 minutues in normal market session with the maximum is 25 for each RIC. If the returned status code from HTTP response is not 200 (OK) that means the application gets an error response. Hence, it prints the response and exit. Otherwise,it prints the successful response. If Requesting data of some RICs failed, the problem exits.\n",
    "If you have not permission to request any RICs, please contact Refenitiv account team who can help you on this."
   ]
  },
  {
   "cell_type": "code",
   "execution_count": null,
   "metadata": {
    "scrolled": true
   },
   "outputs": [],
   "source": [
    "#create parameters to intraday service\n",
    "#calculate the previous business day which is start and end parameter\n",
    "import pandas as pd\n",
    "# BDay is business day\n",
    "from pandas.tseries.offsets import BDay\n",
    "import datetime\n",
    "today = pd.datetime.today()\n",
    "previousBDay=today-BDay(1)\n",
    "historical_pricing_intraday_summaries_endpoint=\"https://api.refinitiv.com/data/historical-pricing/v1/views/intraday-summaries/\"\n",
    "separator=\"&\"\n",
    "interval=\"interval=PT10M\"\n",
    "startDate=str(previousBDay.date())+\"T00:00:00.000000000Z\"\n",
    "start=\"start=\" + startDate\n",
    "endDate=str(previousBDay.date())+\"T23:59:59.999999999Z\"\n",
    "end=\"end=\"+endDate\n",
    "#Last trade price or value.\n",
    "fields=\"fields=TRDPRC_1\"\n",
    "sessions=\"sessions=normal\"\n",
    "count=\"count=25\"\n",
    "params=\"?\"+interval+separator+start+separator+end+separator+fields+separator+sessions+separator+count\n",
    "\n",
    "#request data for each RIC\n",
    "intraDayDataDictionary = {}\n",
    "for aRIC in RICList:\n",
    "    intradayUrl=historical_pricing_intraday_summaries_endpoint+aRIC+params\n",
    "    print(\"Retrieve data of RIC \" + aRIC)\n",
    "    print(\"GET: \"+intradayUrl)\n",
    "    resp=get(url=intradayUrl,headers={\"Authorization\": \"Bearer \" + accessToken})\n",
    "    \n",
    "    if resp.status_code!=200:\n",
    "        print(\"Status Code:\",resp.status_code,\" Text:\",dumps(loads(resp.text),indent=4))\n",
    "        exit()\n",
    "        break\n",
    "    whole_intraday_object=loads(resp.text) \n",
    "    \n",
    "    #Verify if there is data or not. If user has no permission, there is no data\n",
    "    if 'data' not in whole_intraday_object[0]:\n",
    "        print(\"There is no data\")\n",
    "        print(\"Failed response:\")\n",
    "        print(whole_intraday_object[0])\n",
    "        break\n",
    "    elif len(whole_intraday_object[0]['data'])==0:\n",
    "        print(\"Data is empty\")\n",
    "        print(\"Failed response:\")\n",
    "        print(whole_intraday_object[0])\n",
    "        break\n",
    "    \n",
    "    intraDayDataDictionary[aRIC]=whole_intraday_object[0]\n",
    "    print(\"Successful response:\")\n",
    "    print(intraDayDataDictionary[aRIC])\n",
    "    print()"
   ]
  },
  {
   "cell_type": "markdown",
   "metadata": {},
   "source": [
    "__6. Prints data in the table format using pandas and numpy__"
   ]
  },
  {
   "cell_type": "code",
   "execution_count": null,
   "metadata": {},
   "outputs": [],
   "source": [
    "import pandas as pd\n",
    "import numpy as np\n",
    "from pandas import DataFrame\n",
    "dataFrameDictionary = {}\n",
    "DateTimeDict = {}\n",
    "dataToPlot= DataFrame()\n",
    "#create table of each RIC\n",
    "\n",
    "for aRIC in intraDayDataDictionary:\n",
    "    intraday_object=intraDayDataDictionary[aRIC]\n",
    "    headers=intraday_object['headers']\n",
    "    #Get column headers/titles using lambda\n",
    "    titles=map(lambda header:header['name'], headers)\n",
    "    dataArray=np.array(intraday_object['data'])\n",
    "    df=pd.DataFrame(data=dataArray,columns=titles)\n",
    "    \n",
    "    #if there is data\n",
    "    if df.empty is False:\n",
    "        df.index += 1\n",
    "        dataFrameDictionary[aRIC]=df\n",
    "        print(\"Data of \" + aRIC + \"(\" + RIC2SymbolDict[aRIC] + \")\")\n",
    "        print(dataFrameDictionary[aRIC])\n",
    "        print()\n",
    "        #get date and time of the RIC\n",
    "        DateTimeDict[aRIC]= getDataByNameInHeaders(intraday_object['headers'],intraday_object['data'],\"DATE_TIME\")"
   ]
  },
  {
   "cell_type": "markdown",
   "metadata": {},
   "source": [
    "__7. Plot a line chart of each RICs__\n",
    "\n",
    "Use matplotlib.pyplot module to plot a line chart of each RIC. The data for the X-axis is a date and time and the Y-axis is Last trade prices."
   ]
  },
  {
   "cell_type": "code",
   "execution_count": null,
   "metadata": {
    "scrolled": true
   },
   "outputs": [],
   "source": [
    "import matplotlib.pyplot as plt\n",
    "from pandas import DataFrame\n",
    "import numpy as np\n",
    "dataPlot= DataFrame()\n",
    "yColumns = []\n",
    "\n",
    "for aRIC in intraDayDataDictionary:\n",
    "    dataFrameDictionary[aRIC].TRDPRC_1=dataFrameDictionary[aRIC].TRDPRC_1.astype(float)\n",
    "    df=dataFrameDictionary[aRIC]\n",
    "    #get data rows which 'TRDPRC_1' field has value\n",
    "    df=df[np.isfinite(df['TRDPRC_1'])]\n",
    "    #set size and grid of chart\n",
    "    fig = plt.figure(figsize=(6,3),dpi=100)\n",
    "    ax = plt.subplot2grid((3,3), (0, 0), rowspan=3, colspan=3)\n",
    "    ax.grid(True)\n",
    "    #set title and label of x and y axis\n",
    "    ax.set_title(\"Last Trade Prices of \"+ aRIC + \"(\" + RIC2SymbolDict[aRIC] + \")\")\n",
    "    ax.set_xlabel('Date and Time')\n",
    "    plt.xticks(rotation=90)\n",
    "    ax.set_ylabel('Price')\n",
    "    #plot a line chart with x axis is 'Date-Time' field and y axis is 'TRDPRC_1' field\n",
    "    ax.plot(df['DATE_TIME'], df['TRDPRC_1'])\n",
    "    #show the line chart\n",
    "    plt.show()"
   ]
  },
  {
   "cell_type": "code",
   "execution_count": null,
   "metadata": {},
   "outputs": [],
   "source": []
  }
 ],
 "metadata": {
  "kernelspec": {
   "display_name": "Python 3",
   "language": "python",
   "name": "python3"
  },
  "language_info": {
   "codemirror_mode": {
    "name": "ipython",
    "version": 3
   },
   "file_extension": ".py",
   "mimetype": "text/x-python",
   "name": "python",
   "nbconvert_exporter": "python",
   "pygments_lexer": "ipython3",
   "version": "3.6.5"
  }
 },
 "nbformat": 4,
 "nbformat_minor": 2
}
